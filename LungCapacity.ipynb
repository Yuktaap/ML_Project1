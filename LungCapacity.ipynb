{
 "cells": [
  {
   "cell_type": "code",
   "execution_count": 1,
   "id": "71db1020-8c52-499d-a677-c22c82953eb2",
   "metadata": {},
   "outputs": [],
   "source": [
    "import pandas as pd \n",
    "import numpy as np"
   ]
  },
  {
   "cell_type": "markdown",
   "id": "2cee62da-7ac0-40dd-9c91-d358dc70eaa2",
   "metadata": {},
   "source": [
    "# Step 2: Get/Load the dataset."
   ]
  },
  {
   "cell_type": "code",
   "execution_count": 3,
   "id": "80e52c3e-9d98-466c-90ac-3da9233d5866",
   "metadata": {},
   "outputs": [],
   "source": [
    "lcn = pd.read_csv(r\"ML_Project1\LungCapData.csv\")   # use r to avoid changing \ to / "  -- give the necessary path here dummy path is provided for security reasons.
   ]
  },
  {
   "cell_type": "code",
   "execution_count": 4,
   "id": "e9c97b0f-8edc-4639-8323-44ec0d2dd434",
   "metadata": {},
   "outputs": [
    {
     "data": {
      "text/html": [
       "<div>\n",
       "<style scoped>\n",
       "    .dataframe tbody tr th:only-of-type {\n",
       "        vertical-align: middle;\n",
       "    }\n",
       "\n",
       "    .dataframe tbody tr th {\n",
       "        vertical-align: top;\n",
       "    }\n",
       "\n",
       "    .dataframe thead th {\n",
       "        text-align: right;\n",
       "    }\n",
       "</style>\n",
       "<table border=\"1\" class=\"dataframe\">\n",
       "  <thead>\n",
       "    <tr style=\"text-align: right;\">\n",
       "      <th></th>\n",
       "      <th>LungCap</th>\n",
       "      <th>Age</th>\n",
       "      <th>Height</th>\n",
       "      <th>Smoke</th>\n",
       "      <th>Gender</th>\n",
       "      <th>Caesarean</th>\n",
       "    </tr>\n",
       "  </thead>\n",
       "  <tbody>\n",
       "    <tr>\n",
       "      <th>0</th>\n",
       "      <td>6.475</td>\n",
       "      <td>6</td>\n",
       "      <td>62.1</td>\n",
       "      <td>no</td>\n",
       "      <td>male</td>\n",
       "      <td>no</td>\n",
       "    </tr>\n",
       "    <tr>\n",
       "      <th>1</th>\n",
       "      <td>10.125</td>\n",
       "      <td>18</td>\n",
       "      <td>74.7</td>\n",
       "      <td>yes</td>\n",
       "      <td>female</td>\n",
       "      <td>no</td>\n",
       "    </tr>\n",
       "    <tr>\n",
       "      <th>2</th>\n",
       "      <td>9.550</td>\n",
       "      <td>16</td>\n",
       "      <td>69.7</td>\n",
       "      <td>no</td>\n",
       "      <td>female</td>\n",
       "      <td>yes</td>\n",
       "    </tr>\n",
       "    <tr>\n",
       "      <th>3</th>\n",
       "      <td>11.125</td>\n",
       "      <td>14</td>\n",
       "      <td>71.0</td>\n",
       "      <td>no</td>\n",
       "      <td>male</td>\n",
       "      <td>no</td>\n",
       "    </tr>\n",
       "    <tr>\n",
       "      <th>4</th>\n",
       "      <td>4.800</td>\n",
       "      <td>5</td>\n",
       "      <td>56.9</td>\n",
       "      <td>no</td>\n",
       "      <td>male</td>\n",
       "      <td>no</td>\n",
       "    </tr>\n",
       "  </tbody>\n",
       "</table>\n",
       "</div>"
      ],
      "text/plain": [
       "   LungCap  Age  Height Smoke  Gender Caesarean\n",
       "0    6.475    6    62.1    no    male        no\n",
       "1   10.125   18    74.7   yes  female        no\n",
       "2    9.550   16    69.7    no  female       yes\n",
       "3   11.125   14    71.0    no    male        no\n",
       "4    4.800    5    56.9    no    male        no"
      ]
     },
     "execution_count": 4,
     "metadata": {},
     "output_type": "execute_result"
    }
   ],
   "source": [
    "lcn.head()"
   ]
  },
  {
   "cell_type": "markdown",
   "id": "437f7c7b-828f-4971-9496-3e81873925d5",
   "metadata": {},
   "source": [
    "# Step 3 : Data cleaning and data preprocessing."
   ]
  },
  {
   "cell_type": "code",
   "execution_count": 6,
   "id": "302c479e-ff52-4d95-a8c2-5a135beee715",
   "metadata": {},
   "outputs": [
    {
     "data": {
      "text/plain": [
       "(725, 6)"
      ]
     },
     "execution_count": 6,
     "metadata": {},
     "output_type": "execute_result"
    }
   ],
   "source": [
    "lcn.shape"
   ]
  },
  {
   "cell_type": "code",
   "execution_count": 7,
   "id": "6ca27831-312f-47c6-8251-82cad19a6788",
   "metadata": {},
   "outputs": [
    {
     "name": "stdout",
     "output_type": "stream",
     "text": [
      "<class 'pandas.core.frame.DataFrame'>\n",
      "RangeIndex: 725 entries, 0 to 724\n",
      "Data columns (total 6 columns):\n",
      " #   Column     Non-Null Count  Dtype  \n",
      "---  ------     --------------  -----  \n",
      " 0   LungCap    725 non-null    float64\n",
      " 1   Age        725 non-null    int64  \n",
      " 2   Height     725 non-null    float64\n",
      " 3   Smoke      725 non-null    object \n",
      " 4   Gender     725 non-null    object \n",
      " 5   Caesarean  725 non-null    object \n",
      "dtypes: float64(2), int64(1), object(3)\n",
      "memory usage: 34.1+ KB\n"
     ]
    }
   ],
   "source": [
    "lcn.info()"
   ]
  },
  {
   "cell_type": "code",
   "execution_count": 8,
   "id": "e28510bc-1f8b-48d7-a2a7-f21fad70885b",
   "metadata": {},
   "outputs": [
    {
     "data": {
      "text/plain": [
       "LungCap      0\n",
       "Age          0\n",
       "Height       0\n",
       "Smoke        0\n",
       "Gender       0\n",
       "Caesarean    0\n",
       "dtype: int64"
      ]
     },
     "execution_count": 8,
     "metadata": {},
     "output_type": "execute_result"
    }
   ],
   "source": [
    "lcn.isnull().sum()"
   ]
  },
  {
   "cell_type": "markdown",
   "id": "cf4f0415-0362-448f-8b68-2ba0287f702f",
   "metadata": {},
   "source": [
    "# Entire data should be in numeric format i.e datatypes should be either float or integer."
   ]
  },
  {
   "cell_type": "code",
   "execution_count": 10,
   "id": "498ca466-cf66-4d5f-b090-2b07b26243cd",
   "metadata": {},
   "outputs": [
    {
     "name": "stderr",
     "output_type": "stream",
     "text": [
      "C:\\Users\\Yukta Patil\\AppData\\Local\\Temp\\ipykernel_32260\\2025618697.py:1: FutureWarning: Downcasting behavior in `replace` is deprecated and will be removed in a future version. To retain the old behavior, explicitly call `result.infer_objects(copy=False)`. To opt-in to the future behavior, set `pd.set_option('future.no_silent_downcasting', True)`\n",
      "  lcn.Smoke = lcn.Smoke.replace({'no':0,'yes':1})\n"
     ]
    }
   ],
   "source": [
    "lcn.Smoke = lcn.Smoke.replace({'no':0,'yes':1}) "
   ]
  },
  {
   "cell_type": "code",
   "execution_count": 11,
   "id": "985f5ad8-edd6-4567-9031-a9608500515c",
   "metadata": {},
   "outputs": [
    {
     "name": "stderr",
     "output_type": "stream",
     "text": [
      "C:\\Users\\Yukta Patil\\AppData\\Local\\Temp\\ipykernel_32260\\2960468065.py:1: FutureWarning: Downcasting behavior in `replace` is deprecated and will be removed in a future version. To retain the old behavior, explicitly call `result.infer_objects(copy=False)`. To opt-in to the future behavior, set `pd.set_option('future.no_silent_downcasting', True)`\n",
      "  lcn.Gender = lcn.Gender.replace({'male':1,'female':0})\n"
     ]
    }
   ],
   "source": [
    "lcn.Gender = lcn.Gender.replace({'male':1,'female':0})"
   ]
  },
  {
   "cell_type": "code",
   "execution_count": 12,
   "id": "eac498ea-ba37-44d0-b526-a59be9d8129a",
   "metadata": {},
   "outputs": [
    {
     "name": "stderr",
     "output_type": "stream",
     "text": [
      "C:\\Users\\Yukta Patil\\AppData\\Local\\Temp\\ipykernel_32260\\3199584309.py:1: FutureWarning: Downcasting behavior in `replace` is deprecated and will be removed in a future version. To retain the old behavior, explicitly call `result.infer_objects(copy=False)`. To opt-in to the future behavior, set `pd.set_option('future.no_silent_downcasting', True)`\n",
      "  lcn.Caesarean = lcn.Caesarean.replace({'no':0,'yes':1})\n"
     ]
    }
   ],
   "source": [
    "lcn.Caesarean = lcn.Caesarean.replace({'no':0,'yes':1})"
   ]
  },
  {
   "cell_type": "code",
   "execution_count": 13,
   "id": "80300d6e-3eff-4bd5-a9ac-719742221c2e",
   "metadata": {},
   "outputs": [
    {
     "name": "stdout",
     "output_type": "stream",
     "text": [
      "<class 'pandas.core.frame.DataFrame'>\n",
      "RangeIndex: 725 entries, 0 to 724\n",
      "Data columns (total 6 columns):\n",
      " #   Column     Non-Null Count  Dtype  \n",
      "---  ------     --------------  -----  \n",
      " 0   LungCap    725 non-null    float64\n",
      " 1   Age        725 non-null    int64  \n",
      " 2   Height     725 non-null    float64\n",
      " 3   Smoke      725 non-null    int64  \n",
      " 4   Gender     725 non-null    int64  \n",
      " 5   Caesarean  725 non-null    int64  \n",
      "dtypes: float64(2), int64(4)\n",
      "memory usage: 34.1 KB\n"
     ]
    }
   ],
   "source": [
    "lcn.info()"
   ]
  },
  {
   "cell_type": "markdown",
   "id": "baea3060-e830-4de3-93f3-0f01417df4b0",
   "metadata": {},
   "source": [
    "# Step 4 :  Sampling "
   ]
  },
  {
   "cell_type": "code",
   "execution_count": 15,
   "id": "1972cc47-e2ff-4fe4-b0c0-86ffd75ee39f",
   "metadata": {},
   "outputs": [],
   "source": [
    "from sklearn.model_selection import train_test_split"
   ]
  },
  {
   "cell_type": "code",
   "execution_count": 16,
   "id": "bd3a442c-8638-4adb-b46d-1c1d0ec590ab",
   "metadata": {},
   "outputs": [],
   "source": [
    "lcn_train,lcn_test = train_test_split(lcn,test_size=0.2)"
   ]
  },
  {
   "cell_type": "code",
   "execution_count": 17,
   "id": "c58621d6-f9c0-4d17-a695-8c9519efee3b",
   "metadata": {},
   "outputs": [
    {
     "data": {
      "text/html": [
       "<div>\n",
       "<style scoped>\n",
       "    .dataframe tbody tr th:only-of-type {\n",
       "        vertical-align: middle;\n",
       "    }\n",
       "\n",
       "    .dataframe tbody tr th {\n",
       "        vertical-align: top;\n",
       "    }\n",
       "\n",
       "    .dataframe thead th {\n",
       "        text-align: right;\n",
       "    }\n",
       "</style>\n",
       "<table border=\"1\" class=\"dataframe\">\n",
       "  <thead>\n",
       "    <tr style=\"text-align: right;\">\n",
       "      <th></th>\n",
       "      <th>LungCap</th>\n",
       "      <th>Age</th>\n",
       "      <th>Height</th>\n",
       "      <th>Smoke</th>\n",
       "      <th>Gender</th>\n",
       "      <th>Caesarean</th>\n",
       "    </tr>\n",
       "  </thead>\n",
       "  <tbody>\n",
       "    <tr>\n",
       "      <th>408</th>\n",
       "      <td>10.100</td>\n",
       "      <td>15</td>\n",
       "      <td>74.5</td>\n",
       "      <td>0</td>\n",
       "      <td>1</td>\n",
       "      <td>0</td>\n",
       "    </tr>\n",
       "    <tr>\n",
       "      <th>241</th>\n",
       "      <td>9.950</td>\n",
       "      <td>14</td>\n",
       "      <td>71.6</td>\n",
       "      <td>0</td>\n",
       "      <td>0</td>\n",
       "      <td>0</td>\n",
       "    </tr>\n",
       "    <tr>\n",
       "      <th>610</th>\n",
       "      <td>9.750</td>\n",
       "      <td>16</td>\n",
       "      <td>73.7</td>\n",
       "      <td>0</td>\n",
       "      <td>1</td>\n",
       "      <td>1</td>\n",
       "    </tr>\n",
       "    <tr>\n",
       "      <th>415</th>\n",
       "      <td>3.175</td>\n",
       "      <td>6</td>\n",
       "      <td>56.2</td>\n",
       "      <td>0</td>\n",
       "      <td>0</td>\n",
       "      <td>0</td>\n",
       "    </tr>\n",
       "    <tr>\n",
       "      <th>334</th>\n",
       "      <td>7.375</td>\n",
       "      <td>14</td>\n",
       "      <td>69.1</td>\n",
       "      <td>0</td>\n",
       "      <td>0</td>\n",
       "      <td>1</td>\n",
       "    </tr>\n",
       "    <tr>\n",
       "      <th>...</th>\n",
       "      <td>...</td>\n",
       "      <td>...</td>\n",
       "      <td>...</td>\n",
       "      <td>...</td>\n",
       "      <td>...</td>\n",
       "      <td>...</td>\n",
       "    </tr>\n",
       "    <tr>\n",
       "      <th>322</th>\n",
       "      <td>8.900</td>\n",
       "      <td>15</td>\n",
       "      <td>64.9</td>\n",
       "      <td>0</td>\n",
       "      <td>0</td>\n",
       "      <td>0</td>\n",
       "    </tr>\n",
       "    <tr>\n",
       "      <th>720</th>\n",
       "      <td>5.725</td>\n",
       "      <td>9</td>\n",
       "      <td>56.0</td>\n",
       "      <td>0</td>\n",
       "      <td>0</td>\n",
       "      <td>0</td>\n",
       "    </tr>\n",
       "    <tr>\n",
       "      <th>63</th>\n",
       "      <td>6.850</td>\n",
       "      <td>13</td>\n",
       "      <td>58.7</td>\n",
       "      <td>0</td>\n",
       "      <td>0</td>\n",
       "      <td>0</td>\n",
       "    </tr>\n",
       "    <tr>\n",
       "      <th>312</th>\n",
       "      <td>8.775</td>\n",
       "      <td>14</td>\n",
       "      <td>67.5</td>\n",
       "      <td>0</td>\n",
       "      <td>0</td>\n",
       "      <td>0</td>\n",
       "    </tr>\n",
       "    <tr>\n",
       "      <th>209</th>\n",
       "      <td>6.400</td>\n",
       "      <td>7</td>\n",
       "      <td>60.4</td>\n",
       "      <td>0</td>\n",
       "      <td>1</td>\n",
       "      <td>0</td>\n",
       "    </tr>\n",
       "  </tbody>\n",
       "</table>\n",
       "<p>580 rows × 6 columns</p>\n",
       "</div>"
      ],
      "text/plain": [
       "     LungCap  Age  Height  Smoke  Gender  Caesarean\n",
       "408   10.100   15    74.5      0       1          0\n",
       "241    9.950   14    71.6      0       0          0\n",
       "610    9.750   16    73.7      0       1          1\n",
       "415    3.175    6    56.2      0       0          0\n",
       "334    7.375   14    69.1      0       0          1\n",
       "..       ...  ...     ...    ...     ...        ...\n",
       "322    8.900   15    64.9      0       0          0\n",
       "720    5.725    9    56.0      0       0          0\n",
       "63     6.850   13    58.7      0       0          0\n",
       "312    8.775   14    67.5      0       0          0\n",
       "209    6.400    7    60.4      0       1          0\n",
       "\n",
       "[580 rows x 6 columns]"
      ]
     },
     "execution_count": 17,
     "metadata": {},
     "output_type": "execute_result"
    }
   ],
   "source": [
    "lcn_train"
   ]
  },
  {
   "cell_type": "code",
   "execution_count": 18,
   "id": "4743c037-719b-48f6-b4c9-96bfed3e5c69",
   "metadata": {},
   "outputs": [
    {
     "data": {
      "text/plain": [
       "(580, 6)"
      ]
     },
     "execution_count": 18,
     "metadata": {},
     "output_type": "execute_result"
    }
   ],
   "source": [
    "lcn_train.shape #725 * 0.8 = 580"
   ]
  },
  {
   "cell_type": "code",
   "execution_count": 19,
   "id": "956aeb0f-0e7c-4412-baea-5d2feef5e27d",
   "metadata": {},
   "outputs": [
    {
     "data": {
      "text/plain": [
       "(145, 6)"
      ]
     },
     "execution_count": 19,
     "metadata": {},
     "output_type": "execute_result"
    }
   ],
   "source": [
    "lcn_test.shape # 725 * 0.2 = 145"
   ]
  },
  {
   "cell_type": "code",
   "execution_count": 20,
   "id": "e7ca5e5f-745a-49ee-bc64-32eb0d9681c3",
   "metadata": {},
   "outputs": [],
   "source": [
    "lcn_train_x = lcn_train.iloc[:,1::]\n",
    "lcn_test_x = lcn_test.iloc[:,1::]"
   ]
  },
  {
   "cell_type": "code",
   "execution_count": 21,
   "id": "95e72607-dba4-4633-b40d-ced23f68355a",
   "metadata": {},
   "outputs": [],
   "source": [
    "lcn_train_y = lcn_train.iloc[:,0]\n",
    "lcn_test_y = lcn_test.iloc[:,0]"
   ]
  },
  {
   "cell_type": "code",
   "execution_count": 22,
   "id": "11a5fc1a-c22f-4308-91a3-2ea125a5ac26",
   "metadata": {},
   "outputs": [
    {
     "data": {
      "text/html": [
       "<div>\n",
       "<style scoped>\n",
       "    .dataframe tbody tr th:only-of-type {\n",
       "        vertical-align: middle;\n",
       "    }\n",
       "\n",
       "    .dataframe tbody tr th {\n",
       "        vertical-align: top;\n",
       "    }\n",
       "\n",
       "    .dataframe thead th {\n",
       "        text-align: right;\n",
       "    }\n",
       "</style>\n",
       "<table border=\"1\" class=\"dataframe\">\n",
       "  <thead>\n",
       "    <tr style=\"text-align: right;\">\n",
       "      <th></th>\n",
       "      <th>Age</th>\n",
       "      <th>Height</th>\n",
       "      <th>Smoke</th>\n",
       "      <th>Gender</th>\n",
       "      <th>Caesarean</th>\n",
       "    </tr>\n",
       "  </thead>\n",
       "  <tbody>\n",
       "    <tr>\n",
       "      <th>408</th>\n",
       "      <td>15</td>\n",
       "      <td>74.5</td>\n",
       "      <td>0</td>\n",
       "      <td>1</td>\n",
       "      <td>0</td>\n",
       "    </tr>\n",
       "    <tr>\n",
       "      <th>241</th>\n",
       "      <td>14</td>\n",
       "      <td>71.6</td>\n",
       "      <td>0</td>\n",
       "      <td>0</td>\n",
       "      <td>0</td>\n",
       "    </tr>\n",
       "    <tr>\n",
       "      <th>610</th>\n",
       "      <td>16</td>\n",
       "      <td>73.7</td>\n",
       "      <td>0</td>\n",
       "      <td>1</td>\n",
       "      <td>1</td>\n",
       "    </tr>\n",
       "    <tr>\n",
       "      <th>415</th>\n",
       "      <td>6</td>\n",
       "      <td>56.2</td>\n",
       "      <td>0</td>\n",
       "      <td>0</td>\n",
       "      <td>0</td>\n",
       "    </tr>\n",
       "    <tr>\n",
       "      <th>334</th>\n",
       "      <td>14</td>\n",
       "      <td>69.1</td>\n",
       "      <td>0</td>\n",
       "      <td>0</td>\n",
       "      <td>1</td>\n",
       "    </tr>\n",
       "    <tr>\n",
       "      <th>...</th>\n",
       "      <td>...</td>\n",
       "      <td>...</td>\n",
       "      <td>...</td>\n",
       "      <td>...</td>\n",
       "      <td>...</td>\n",
       "    </tr>\n",
       "    <tr>\n",
       "      <th>322</th>\n",
       "      <td>15</td>\n",
       "      <td>64.9</td>\n",
       "      <td>0</td>\n",
       "      <td>0</td>\n",
       "      <td>0</td>\n",
       "    </tr>\n",
       "    <tr>\n",
       "      <th>720</th>\n",
       "      <td>9</td>\n",
       "      <td>56.0</td>\n",
       "      <td>0</td>\n",
       "      <td>0</td>\n",
       "      <td>0</td>\n",
       "    </tr>\n",
       "    <tr>\n",
       "      <th>63</th>\n",
       "      <td>13</td>\n",
       "      <td>58.7</td>\n",
       "      <td>0</td>\n",
       "      <td>0</td>\n",
       "      <td>0</td>\n",
       "    </tr>\n",
       "    <tr>\n",
       "      <th>312</th>\n",
       "      <td>14</td>\n",
       "      <td>67.5</td>\n",
       "      <td>0</td>\n",
       "      <td>0</td>\n",
       "      <td>0</td>\n",
       "    </tr>\n",
       "    <tr>\n",
       "      <th>209</th>\n",
       "      <td>7</td>\n",
       "      <td>60.4</td>\n",
       "      <td>0</td>\n",
       "      <td>1</td>\n",
       "      <td>0</td>\n",
       "    </tr>\n",
       "  </tbody>\n",
       "</table>\n",
       "<p>580 rows × 5 columns</p>\n",
       "</div>"
      ],
      "text/plain": [
       "     Age  Height  Smoke  Gender  Caesarean\n",
       "408   15    74.5      0       1          0\n",
       "241   14    71.6      0       0          0\n",
       "610   16    73.7      0       1          1\n",
       "415    6    56.2      0       0          0\n",
       "334   14    69.1      0       0          1\n",
       "..   ...     ...    ...     ...        ...\n",
       "322   15    64.9      0       0          0\n",
       "720    9    56.0      0       0          0\n",
       "63    13    58.7      0       0          0\n",
       "312   14    67.5      0       0          0\n",
       "209    7    60.4      0       1          0\n",
       "\n",
       "[580 rows x 5 columns]"
      ]
     },
     "execution_count": 22,
     "metadata": {},
     "output_type": "execute_result"
    }
   ],
   "source": [
    "lcn_train_x"
   ]
  },
  {
   "cell_type": "code",
   "execution_count": 23,
   "id": "ae4acbba-05d3-4ea4-9d99-71307480908a",
   "metadata": {},
   "outputs": [
    {
     "data": {
      "text/plain": [
       "408    10.100\n",
       "241     9.950\n",
       "610     9.750\n",
       "415     3.175\n",
       "334     7.375\n",
       "        ...  \n",
       "322     8.900\n",
       "720     5.725\n",
       "63      6.850\n",
       "312     8.775\n",
       "209     6.400\n",
       "Name: LungCap, Length: 580, dtype: float64"
      ]
     },
     "execution_count": 23,
     "metadata": {},
     "output_type": "execute_result"
    }
   ],
   "source": [
    "lcn_train_y"
   ]
  },
  {
   "cell_type": "markdown",
   "id": "99f7b49a-4194-49fa-9d32-a61112a18808",
   "metadata": {},
   "source": [
    "# Step 5 : Model Building \n",
    "Steps : 1. Import the neccessary function from sklearn\n",
    "        2. Create an object of that funnction.\n",
    "        3. Run the FIT function and model is created.\n",
    "        4. Run the prediction by using predict function."
   ]
  },
  {
   "cell_type": "code",
   "execution_count": 25,
   "id": "4a2f6a8d-8d6c-4f21-90c4-5c5e054e251f",
   "metadata": {},
   "outputs": [],
   "source": [
    "from sklearn.linear_model import LinearRegression"
   ]
  },
  {
   "cell_type": "code",
   "execution_count": 26,
   "id": "ae008784-9333-4c5d-bbda-603d4b4fb154",
   "metadata": {},
   "outputs": [],
   "source": [
    "linereg = LinearRegression()"
   ]
  },
  {
   "cell_type": "code",
   "execution_count": 27,
   "id": "04b543bf-45a8-443c-b8c4-cca9c899c3bb",
   "metadata": {},
   "outputs": [
    {
     "data": {
      "text/html": [
       "<style>#sk-container-id-1 {\n",
       "  /* Definition of color scheme common for light and dark mode */\n",
       "  --sklearn-color-text: black;\n",
       "  --sklearn-color-line: gray;\n",
       "  /* Definition of color scheme for unfitted estimators */\n",
       "  --sklearn-color-unfitted-level-0: #fff5e6;\n",
       "  --sklearn-color-unfitted-level-1: #f6e4d2;\n",
       "  --sklearn-color-unfitted-level-2: #ffe0b3;\n",
       "  --sklearn-color-unfitted-level-3: chocolate;\n",
       "  /* Definition of color scheme for fitted estimators */\n",
       "  --sklearn-color-fitted-level-0: #f0f8ff;\n",
       "  --sklearn-color-fitted-level-1: #d4ebff;\n",
       "  --sklearn-color-fitted-level-2: #b3dbfd;\n",
       "  --sklearn-color-fitted-level-3: cornflowerblue;\n",
       "\n",
       "  /* Specific color for light theme */\n",
       "  --sklearn-color-text-on-default-background: var(--sg-text-color, var(--theme-code-foreground, var(--jp-content-font-color1, black)));\n",
       "  --sklearn-color-background: var(--sg-background-color, var(--theme-background, var(--jp-layout-color0, white)));\n",
       "  --sklearn-color-border-box: var(--sg-text-color, var(--theme-code-foreground, var(--jp-content-font-color1, black)));\n",
       "  --sklearn-color-icon: #696969;\n",
       "\n",
       "  @media (prefers-color-scheme: dark) {\n",
       "    /* Redefinition of color scheme for dark theme */\n",
       "    --sklearn-color-text-on-default-background: var(--sg-text-color, var(--theme-code-foreground, var(--jp-content-font-color1, white)));\n",
       "    --sklearn-color-background: var(--sg-background-color, var(--theme-background, var(--jp-layout-color0, #111)));\n",
       "    --sklearn-color-border-box: var(--sg-text-color, var(--theme-code-foreground, var(--jp-content-font-color1, white)));\n",
       "    --sklearn-color-icon: #878787;\n",
       "  }\n",
       "}\n",
       "\n",
       "#sk-container-id-1 {\n",
       "  color: var(--sklearn-color-text);\n",
       "}\n",
       "\n",
       "#sk-container-id-1 pre {\n",
       "  padding: 0;\n",
       "}\n",
       "\n",
       "#sk-container-id-1 input.sk-hidden--visually {\n",
       "  border: 0;\n",
       "  clip: rect(1px 1px 1px 1px);\n",
       "  clip: rect(1px, 1px, 1px, 1px);\n",
       "  height: 1px;\n",
       "  margin: -1px;\n",
       "  overflow: hidden;\n",
       "  padding: 0;\n",
       "  position: absolute;\n",
       "  width: 1px;\n",
       "}\n",
       "\n",
       "#sk-container-id-1 div.sk-dashed-wrapped {\n",
       "  border: 1px dashed var(--sklearn-color-line);\n",
       "  margin: 0 0.4em 0.5em 0.4em;\n",
       "  box-sizing: border-box;\n",
       "  padding-bottom: 0.4em;\n",
       "  background-color: var(--sklearn-color-background);\n",
       "}\n",
       "\n",
       "#sk-container-id-1 div.sk-container {\n",
       "  /* jupyter's `normalize.less` sets `[hidden] { display: none; }`\n",
       "     but bootstrap.min.css set `[hidden] { display: none !important; }`\n",
       "     so we also need the `!important` here to be able to override the\n",
       "     default hidden behavior on the sphinx rendered scikit-learn.org.\n",
       "     See: https://github.com/scikit-learn/scikit-learn/issues/21755 */\n",
       "  display: inline-block !important;\n",
       "  position: relative;\n",
       "}\n",
       "\n",
       "#sk-container-id-1 div.sk-text-repr-fallback {\n",
       "  display: none;\n",
       "}\n",
       "\n",
       "div.sk-parallel-item,\n",
       "div.sk-serial,\n",
       "div.sk-item {\n",
       "  /* draw centered vertical line to link estimators */\n",
       "  background-image: linear-gradient(var(--sklearn-color-text-on-default-background), var(--sklearn-color-text-on-default-background));\n",
       "  background-size: 2px 100%;\n",
       "  background-repeat: no-repeat;\n",
       "  background-position: center center;\n",
       "}\n",
       "\n",
       "/* Parallel-specific style estimator block */\n",
       "\n",
       "#sk-container-id-1 div.sk-parallel-item::after {\n",
       "  content: \"\";\n",
       "  width: 100%;\n",
       "  border-bottom: 2px solid var(--sklearn-color-text-on-default-background);\n",
       "  flex-grow: 1;\n",
       "}\n",
       "\n",
       "#sk-container-id-1 div.sk-parallel {\n",
       "  display: flex;\n",
       "  align-items: stretch;\n",
       "  justify-content: center;\n",
       "  background-color: var(--sklearn-color-background);\n",
       "  position: relative;\n",
       "}\n",
       "\n",
       "#sk-container-id-1 div.sk-parallel-item {\n",
       "  display: flex;\n",
       "  flex-direction: column;\n",
       "}\n",
       "\n",
       "#sk-container-id-1 div.sk-parallel-item:first-child::after {\n",
       "  align-self: flex-end;\n",
       "  width: 50%;\n",
       "}\n",
       "\n",
       "#sk-container-id-1 div.sk-parallel-item:last-child::after {\n",
       "  align-self: flex-start;\n",
       "  width: 50%;\n",
       "}\n",
       "\n",
       "#sk-container-id-1 div.sk-parallel-item:only-child::after {\n",
       "  width: 0;\n",
       "}\n",
       "\n",
       "/* Serial-specific style estimator block */\n",
       "\n",
       "#sk-container-id-1 div.sk-serial {\n",
       "  display: flex;\n",
       "  flex-direction: column;\n",
       "  align-items: center;\n",
       "  background-color: var(--sklearn-color-background);\n",
       "  padding-right: 1em;\n",
       "  padding-left: 1em;\n",
       "}\n",
       "\n",
       "\n",
       "/* Toggleable style: style used for estimator/Pipeline/ColumnTransformer box that is\n",
       "clickable and can be expanded/collapsed.\n",
       "- Pipeline and ColumnTransformer use this feature and define the default style\n",
       "- Estimators will overwrite some part of the style using the `sk-estimator` class\n",
       "*/\n",
       "\n",
       "/* Pipeline and ColumnTransformer style (default) */\n",
       "\n",
       "#sk-container-id-1 div.sk-toggleable {\n",
       "  /* Default theme specific background. It is overwritten whether we have a\n",
       "  specific estimator or a Pipeline/ColumnTransformer */\n",
       "  background-color: var(--sklearn-color-background);\n",
       "}\n",
       "\n",
       "/* Toggleable label */\n",
       "#sk-container-id-1 label.sk-toggleable__label {\n",
       "  cursor: pointer;\n",
       "  display: block;\n",
       "  width: 100%;\n",
       "  margin-bottom: 0;\n",
       "  padding: 0.5em;\n",
       "  box-sizing: border-box;\n",
       "  text-align: center;\n",
       "}\n",
       "\n",
       "#sk-container-id-1 label.sk-toggleable__label-arrow:before {\n",
       "  /* Arrow on the left of the label */\n",
       "  content: \"▸\";\n",
       "  float: left;\n",
       "  margin-right: 0.25em;\n",
       "  color: var(--sklearn-color-icon);\n",
       "}\n",
       "\n",
       "#sk-container-id-1 label.sk-toggleable__label-arrow:hover:before {\n",
       "  color: var(--sklearn-color-text);\n",
       "}\n",
       "\n",
       "/* Toggleable content - dropdown */\n",
       "\n",
       "#sk-container-id-1 div.sk-toggleable__content {\n",
       "  max-height: 0;\n",
       "  max-width: 0;\n",
       "  overflow: hidden;\n",
       "  text-align: left;\n",
       "  /* unfitted */\n",
       "  background-color: var(--sklearn-color-unfitted-level-0);\n",
       "}\n",
       "\n",
       "#sk-container-id-1 div.sk-toggleable__content.fitted {\n",
       "  /* fitted */\n",
       "  background-color: var(--sklearn-color-fitted-level-0);\n",
       "}\n",
       "\n",
       "#sk-container-id-1 div.sk-toggleable__content pre {\n",
       "  margin: 0.2em;\n",
       "  border-radius: 0.25em;\n",
       "  color: var(--sklearn-color-text);\n",
       "  /* unfitted */\n",
       "  background-color: var(--sklearn-color-unfitted-level-0);\n",
       "}\n",
       "\n",
       "#sk-container-id-1 div.sk-toggleable__content.fitted pre {\n",
       "  /* unfitted */\n",
       "  background-color: var(--sklearn-color-fitted-level-0);\n",
       "}\n",
       "\n",
       "#sk-container-id-1 input.sk-toggleable__control:checked~div.sk-toggleable__content {\n",
       "  /* Expand drop-down */\n",
       "  max-height: 200px;\n",
       "  max-width: 100%;\n",
       "  overflow: auto;\n",
       "}\n",
       "\n",
       "#sk-container-id-1 input.sk-toggleable__control:checked~label.sk-toggleable__label-arrow:before {\n",
       "  content: \"▾\";\n",
       "}\n",
       "\n",
       "/* Pipeline/ColumnTransformer-specific style */\n",
       "\n",
       "#sk-container-id-1 div.sk-label input.sk-toggleable__control:checked~label.sk-toggleable__label {\n",
       "  color: var(--sklearn-color-text);\n",
       "  background-color: var(--sklearn-color-unfitted-level-2);\n",
       "}\n",
       "\n",
       "#sk-container-id-1 div.sk-label.fitted input.sk-toggleable__control:checked~label.sk-toggleable__label {\n",
       "  background-color: var(--sklearn-color-fitted-level-2);\n",
       "}\n",
       "\n",
       "/* Estimator-specific style */\n",
       "\n",
       "/* Colorize estimator box */\n",
       "#sk-container-id-1 div.sk-estimator input.sk-toggleable__control:checked~label.sk-toggleable__label {\n",
       "  /* unfitted */\n",
       "  background-color: var(--sklearn-color-unfitted-level-2);\n",
       "}\n",
       "\n",
       "#sk-container-id-1 div.sk-estimator.fitted input.sk-toggleable__control:checked~label.sk-toggleable__label {\n",
       "  /* fitted */\n",
       "  background-color: var(--sklearn-color-fitted-level-2);\n",
       "}\n",
       "\n",
       "#sk-container-id-1 div.sk-label label.sk-toggleable__label,\n",
       "#sk-container-id-1 div.sk-label label {\n",
       "  /* The background is the default theme color */\n",
       "  color: var(--sklearn-color-text-on-default-background);\n",
       "}\n",
       "\n",
       "/* On hover, darken the color of the background */\n",
       "#sk-container-id-1 div.sk-label:hover label.sk-toggleable__label {\n",
       "  color: var(--sklearn-color-text);\n",
       "  background-color: var(--sklearn-color-unfitted-level-2);\n",
       "}\n",
       "\n",
       "/* Label box, darken color on hover, fitted */\n",
       "#sk-container-id-1 div.sk-label.fitted:hover label.sk-toggleable__label.fitted {\n",
       "  color: var(--sklearn-color-text);\n",
       "  background-color: var(--sklearn-color-fitted-level-2);\n",
       "}\n",
       "\n",
       "/* Estimator label */\n",
       "\n",
       "#sk-container-id-1 div.sk-label label {\n",
       "  font-family: monospace;\n",
       "  font-weight: bold;\n",
       "  display: inline-block;\n",
       "  line-height: 1.2em;\n",
       "}\n",
       "\n",
       "#sk-container-id-1 div.sk-label-container {\n",
       "  text-align: center;\n",
       "}\n",
       "\n",
       "/* Estimator-specific */\n",
       "#sk-container-id-1 div.sk-estimator {\n",
       "  font-family: monospace;\n",
       "  border: 1px dotted var(--sklearn-color-border-box);\n",
       "  border-radius: 0.25em;\n",
       "  box-sizing: border-box;\n",
       "  margin-bottom: 0.5em;\n",
       "  /* unfitted */\n",
       "  background-color: var(--sklearn-color-unfitted-level-0);\n",
       "}\n",
       "\n",
       "#sk-container-id-1 div.sk-estimator.fitted {\n",
       "  /* fitted */\n",
       "  background-color: var(--sklearn-color-fitted-level-0);\n",
       "}\n",
       "\n",
       "/* on hover */\n",
       "#sk-container-id-1 div.sk-estimator:hover {\n",
       "  /* unfitted */\n",
       "  background-color: var(--sklearn-color-unfitted-level-2);\n",
       "}\n",
       "\n",
       "#sk-container-id-1 div.sk-estimator.fitted:hover {\n",
       "  /* fitted */\n",
       "  background-color: var(--sklearn-color-fitted-level-2);\n",
       "}\n",
       "\n",
       "/* Specification for estimator info (e.g. \"i\" and \"?\") */\n",
       "\n",
       "/* Common style for \"i\" and \"?\" */\n",
       "\n",
       ".sk-estimator-doc-link,\n",
       "a:link.sk-estimator-doc-link,\n",
       "a:visited.sk-estimator-doc-link {\n",
       "  float: right;\n",
       "  font-size: smaller;\n",
       "  line-height: 1em;\n",
       "  font-family: monospace;\n",
       "  background-color: var(--sklearn-color-background);\n",
       "  border-radius: 1em;\n",
       "  height: 1em;\n",
       "  width: 1em;\n",
       "  text-decoration: none !important;\n",
       "  margin-left: 1ex;\n",
       "  /* unfitted */\n",
       "  border: var(--sklearn-color-unfitted-level-1) 1pt solid;\n",
       "  color: var(--sklearn-color-unfitted-level-1);\n",
       "}\n",
       "\n",
       ".sk-estimator-doc-link.fitted,\n",
       "a:link.sk-estimator-doc-link.fitted,\n",
       "a:visited.sk-estimator-doc-link.fitted {\n",
       "  /* fitted */\n",
       "  border: var(--sklearn-color-fitted-level-1) 1pt solid;\n",
       "  color: var(--sklearn-color-fitted-level-1);\n",
       "}\n",
       "\n",
       "/* On hover */\n",
       "div.sk-estimator:hover .sk-estimator-doc-link:hover,\n",
       ".sk-estimator-doc-link:hover,\n",
       "div.sk-label-container:hover .sk-estimator-doc-link:hover,\n",
       ".sk-estimator-doc-link:hover {\n",
       "  /* unfitted */\n",
       "  background-color: var(--sklearn-color-unfitted-level-3);\n",
       "  color: var(--sklearn-color-background);\n",
       "  text-decoration: none;\n",
       "}\n",
       "\n",
       "div.sk-estimator.fitted:hover .sk-estimator-doc-link.fitted:hover,\n",
       ".sk-estimator-doc-link.fitted:hover,\n",
       "div.sk-label-container:hover .sk-estimator-doc-link.fitted:hover,\n",
       ".sk-estimator-doc-link.fitted:hover {\n",
       "  /* fitted */\n",
       "  background-color: var(--sklearn-color-fitted-level-3);\n",
       "  color: var(--sklearn-color-background);\n",
       "  text-decoration: none;\n",
       "}\n",
       "\n",
       "/* Span, style for the box shown on hovering the info icon */\n",
       ".sk-estimator-doc-link span {\n",
       "  display: none;\n",
       "  z-index: 9999;\n",
       "  position: relative;\n",
       "  font-weight: normal;\n",
       "  right: .2ex;\n",
       "  padding: .5ex;\n",
       "  margin: .5ex;\n",
       "  width: min-content;\n",
       "  min-width: 20ex;\n",
       "  max-width: 50ex;\n",
       "  color: var(--sklearn-color-text);\n",
       "  box-shadow: 2pt 2pt 4pt #999;\n",
       "  /* unfitted */\n",
       "  background: var(--sklearn-color-unfitted-level-0);\n",
       "  border: .5pt solid var(--sklearn-color-unfitted-level-3);\n",
       "}\n",
       "\n",
       ".sk-estimator-doc-link.fitted span {\n",
       "  /* fitted */\n",
       "  background: var(--sklearn-color-fitted-level-0);\n",
       "  border: var(--sklearn-color-fitted-level-3);\n",
       "}\n",
       "\n",
       ".sk-estimator-doc-link:hover span {\n",
       "  display: block;\n",
       "}\n",
       "\n",
       "/* \"?\"-specific style due to the `<a>` HTML tag */\n",
       "\n",
       "#sk-container-id-1 a.estimator_doc_link {\n",
       "  float: right;\n",
       "  font-size: 1rem;\n",
       "  line-height: 1em;\n",
       "  font-family: monospace;\n",
       "  background-color: var(--sklearn-color-background);\n",
       "  border-radius: 1rem;\n",
       "  height: 1rem;\n",
       "  width: 1rem;\n",
       "  text-decoration: none;\n",
       "  /* unfitted */\n",
       "  color: var(--sklearn-color-unfitted-level-1);\n",
       "  border: var(--sklearn-color-unfitted-level-1) 1pt solid;\n",
       "}\n",
       "\n",
       "#sk-container-id-1 a.estimator_doc_link.fitted {\n",
       "  /* fitted */\n",
       "  border: var(--sklearn-color-fitted-level-1) 1pt solid;\n",
       "  color: var(--sklearn-color-fitted-level-1);\n",
       "}\n",
       "\n",
       "/* On hover */\n",
       "#sk-container-id-1 a.estimator_doc_link:hover {\n",
       "  /* unfitted */\n",
       "  background-color: var(--sklearn-color-unfitted-level-3);\n",
       "  color: var(--sklearn-color-background);\n",
       "  text-decoration: none;\n",
       "}\n",
       "\n",
       "#sk-container-id-1 a.estimator_doc_link.fitted:hover {\n",
       "  /* fitted */\n",
       "  background-color: var(--sklearn-color-fitted-level-3);\n",
       "}\n",
       "</style><div id=\"sk-container-id-1\" class=\"sk-top-container\"><div class=\"sk-text-repr-fallback\"><pre>LinearRegression()</pre><b>In a Jupyter environment, please rerun this cell to show the HTML representation or trust the notebook. <br />On GitHub, the HTML representation is unable to render, please try loading this page with nbviewer.org.</b></div><div class=\"sk-container\" hidden><div class=\"sk-item\"><div class=\"sk-estimator fitted sk-toggleable\"><input class=\"sk-toggleable__control sk-hidden--visually\" id=\"sk-estimator-id-1\" type=\"checkbox\" checked><label for=\"sk-estimator-id-1\" class=\"sk-toggleable__label fitted sk-toggleable__label-arrow fitted\">&nbsp;&nbsp;LinearRegression<a class=\"sk-estimator-doc-link fitted\" rel=\"noreferrer\" target=\"_blank\" href=\"https://scikit-learn.org/1.5/modules/generated/sklearn.linear_model.LinearRegression.html\">?<span>Documentation for LinearRegression</span></a><span class=\"sk-estimator-doc-link fitted\">i<span>Fitted</span></span></label><div class=\"sk-toggleable__content fitted\"><pre>LinearRegression()</pre></div> </div></div></div></div>"
      ],
      "text/plain": [
       "LinearRegression()"
      ]
     },
     "execution_count": 27,
     "metadata": {},
     "output_type": "execute_result"
    }
   ],
   "source": [
    "linereg.fit(lcn_train_x,lcn_train_y) # Model created and trained."
   ]
  },
  {
   "cell_type": "code",
   "execution_count": 28,
   "id": "e254e240-f294-4786-b4aa-d573f87a4727",
   "metadata": {},
   "outputs": [
    {
     "data": {
      "text/plain": [
       "0.8577202457387499"
      ]
     },
     "execution_count": 28,
     "metadata": {},
     "output_type": "execute_result"
    }
   ],
   "source": [
    "Rsq = linereg.score(lcn_train_x,lcn_train_y)\n",
    "Rsq"
   ]
  },
  {
   "cell_type": "code",
   "execution_count": 29,
   "id": "71470fff-8e43-4431-ba24-e99f9df23959",
   "metadata": {},
   "outputs": [],
   "source": [
    "N = lcn_train_x.shape[0] #Rows - 0 index\n",
    "K = lcn_train_x.shape[1] #Columns - 1 index"
   ]
  },
  {
   "cell_type": "code",
   "execution_count": 30,
   "id": "8971dfd2-fd48-4972-8b41-fade973a7aa6",
   "metadata": {},
   "outputs": [
    {
     "data": {
      "text/plain": [
       "0.8564808750570317"
      ]
     },
     "execution_count": 30,
     "metadata": {},
     "output_type": "execute_result"
    }
   ],
   "source": [
    "Adj_Rsq = 1 - (1-Rsq)*(N -1)/(N-K-1)\n",
    "Adj_Rsq"
   ]
  },
  {
   "cell_type": "code",
   "execution_count": 31,
   "id": "82d8589e-f931-418c-9f46-e2403ffb0015",
   "metadata": {},
   "outputs": [
    {
     "data": {
      "text/plain": [
       "Index(['LungCap', 'Age', 'Height', 'Smoke', 'Gender', 'Caesarean'], dtype='object')"
      ]
     },
     "execution_count": 31,
     "metadata": {},
     "output_type": "execute_result"
    }
   ],
   "source": [
    "lcn_train.columns"
   ]
  },
  {
   "cell_type": "code",
   "execution_count": 32,
   "id": "a859d01c-4943-47cb-a7ec-617f698aa06c",
   "metadata": {},
   "outputs": [
    {
     "data": {
      "text/plain": [
       "array([ 0.14342052,  0.27194601, -0.6509967 ,  0.29032334, -0.16296297])"
      ]
     },
     "execution_count": 32,
     "metadata": {},
     "output_type": "execute_result"
    }
   ],
   "source": [
    "linereg.coef_ #gives beta value of every column"
   ]
  },
  {
   "cell_type": "code",
   "execution_count": 33,
   "id": "645c75cb-1565-45fc-bc0f-db807ab6d972",
   "metadata": {},
   "outputs": [
    {
     "data": {
      "text/plain": [
       "-11.561389353107767"
      ]
     },
     "execution_count": 33,
     "metadata": {},
     "output_type": "execute_result"
    }
   ],
   "source": [
    "linereg.intercept_ # Beta0 (betanot value)"
   ]
  },
  {
   "cell_type": "code",
   "execution_count": 34,
   "id": "a5d9b38a-f785-4be5-a712-c8b95fa4e087",
   "metadata": {},
   "outputs": [],
   "source": [
    "pred_train = linereg.predict(lcn_train_x)\n"
   ]
  },
  {
   "cell_type": "code",
   "execution_count": 35,
   "id": "c628133c-6ec2-4ea4-b973-815d43dd5cb1",
   "metadata": {},
   "outputs": [
    {
     "data": {
      "text/plain": [
       "array([11.14021939,  9.91783211, 10.90312013,  4.58249944,  9.07500412,\n",
       "       11.13434627,  9.81909666,  8.28239549,  5.31934911,  5.03250808,\n",
       "       10.6656116 ,  9.86952066,  6.57774826,  3.57253864,  8.52626003,\n",
       "        8.12647076,  6.22472706,  6.57030075,  8.78331102,  6.4045377 ,\n",
       "        4.93725494,  7.91793586,  9.56112395, 10.73489582,  8.70637464,\n",
       "        8.02650962,  6.86062409,  8.56903188,  7.19857666,  5.59129512,\n",
       "        9.0081107 , 11.07093516,  6.53616724,  6.64306728,  7.61373854,\n",
       "       10.23217171, 10.58560219,  3.37104198,  7.2922554 ,  1.1880264 ,\n",
       "       11.55955112,  6.40713315,  6.02989104,  9.52084291,  7.91287915,\n",
       "        6.95730755,  9.0353053 ,  8.80791017,  7.87078953,  8.86469018,\n",
       "        7.0237917 ,  4.77286165, 10.11246348,  7.30824192,  8.88791958,\n",
       "        3.17931001,  9.71031826,  9.43925911, 13.5556868 ,  6.40576339,\n",
       "        2.73832329,  8.09002006,  9.61124399, 10.57309797,  4.24386465,\n",
       "        8.00843626, 11.04633601,  9.36184515,  6.98101985,  7.85104244,\n",
       "        2.04595405, 10.74856516, 10.12171958,  4.50112028,  6.06105085,\n",
       "        5.38487277,  9.87457736, 11.3345468 ,  9.95110446, 10.29110901,\n",
       "        8.07693362,  6.36951733,  6.04615582,  5.49481629,  6.16586405,\n",
       "       11.29245717,  7.99446296, 10.28793067,  9.27933963, 10.05431372,\n",
       "        7.59884352, 11.45077271,  7.26109559,  6.60753831,  9.73095221,\n",
       "        3.00384283,  9.20759414, 10.08359516,  7.03889136,  7.80915745,\n",
       "        5.38883797,  4.78775667,  7.29990755, 12.25779347,  6.15841653,\n",
       "        7.67646212,  8.97346859,  8.25171858,  9.95595653, 10.11427207,\n",
       "        9.92131441,  4.43026166,  6.66677958,  7.1597647 , 12.37907609,\n",
       "        5.0434379 ,  7.02030939,  7.25624353,  9.31955089, 10.24785426,\n",
       "       10.70937494, 10.45311149,  7.90314016,  8.39841676,  3.42057912,\n",
       "        6.96455043, 13.14776779,  7.88308911, 10.04013577,  6.12773963,\n",
       "        4.51581066, 11.33058159, 12.05253624,  6.21677094,  5.1250217 ,\n",
       "        3.06725394,  7.14883488,  9.96904297,  5.72330292, 11.50516192,\n",
       "        4.54806197,  3.97677071,  7.94840813, 11.39986582, 11.76966041,\n",
       "        7.54445432,  9.2488969 ,  9.74007344,  2.12753785,  8.65219008,\n",
       "       13.28374079, 10.87572089, 12.33937727,  3.12143851,  9.07510345,\n",
       "        2.45387306,  8.18830747,  7.71247399, 10.04498784, 12.28498807,\n",
       "        6.48475175,  4.56275235,  5.27588973,  3.97540095,  9.97085155,\n",
       "       10.92266258,  8.00539277, 10.93892736,  7.95606028,  2.42551334,\n",
       "        6.11892236,  8.2354538 ,  7.0277569 ,  8.35304947, 11.16017111,\n",
       "        9.1673131 ,  4.02651248,  2.67887738,  6.16665091, 11.11866372,\n",
       "        6.88433638,  5.78165733,  6.01896122,  4.16733755,  4.99649621,\n",
       "        7.43430616,  7.98305024, 12.95740558,  7.35272235,  4.36842494,\n",
       "        4.99468763,  6.78300549,  6.36019146,  9.17613037,  7.33225818,\n",
       "       10.6186699 ,  9.47041891,  8.23176685, 11.43450793,  8.35167971,\n",
       "        9.54485917,  8.09442409, 11.26041051, 10.79413709,  5.84834611,\n",
       "        9.57919732,  7.43328511,  9.64451634,  8.42561137,  4.73336747,\n",
       "        8.24088809, 10.30115196,  5.72726812, 11.57215466,  8.4495283 ,\n",
       "        3.33899531, 10.50244399,  5.85579362,  6.97944545,  6.65071943,\n",
       "        9.16990855,  7.94840813,  6.02640873, 11.24414573,  6.42738884,\n",
       "       10.30859948,  9.53255959,  7.75804592, 10.57330261,  3.2731934 ,\n",
       "        3.73570625,  4.36097743,  5.71100334,  9.99941591,  7.57513123,\n",
       "        9.13663619,  7.60232583,  8.06463404,  9.02816176,  5.95247708,\n",
       "        5.86771494, 10.05243535, 10.44477712,  8.56903188,  9.30725131,\n",
       "        9.90901484,  8.09948079,  6.00833537,  9.59012714, 11.05515328,\n",
       "        7.48630455,  8.86072498,  8.94230878, 11.72292336,  8.18967723,\n",
       "        7.47031803,  8.57388395,  9.10827647,  9.23420652,  3.15608062,\n",
       "        6.18472427,  6.57456992, 11.98584746,  3.88896508,  5.1759286 ,\n",
       "        6.06900696,  4.28335883, 10.32834657,  7.64441545,  9.48879625,\n",
       "        8.55919356,  6.42202817, 10.38809644,  5.32420118,  8.10412822,\n",
       "        9.4629714 ,  9.56689774,  5.85599825, 11.61762726,  5.81797316,\n",
       "       11.60997511, 10.83790044,  4.63688864, 11.16741399, 10.02175844,\n",
       "        8.85724267,  4.60969404,  7.59139601, 11.33058159, 10.32140766,\n",
       "        4.806134  ,  3.77431356,  5.69262601,  8.11554094,  4.11294835,\n",
       "        8.96622571,  4.6519883 ,  8.55810206, 10.93776224, 12.93786313,\n",
       "       10.82133169, 11.45562478,  8.50371286,  8.32913254,  7.02030939,\n",
       "        5.17196339,  7.69900929,  6.59749535,  8.29708587,  5.50574611,\n",
       "       10.05640056,  6.53428888,  3.63068841, 10.07962995, 10.19425192,\n",
       "       10.70907098,  5.90533075,  2.99639532, 10.89806343,  9.06735197,\n",
       "        4.42281414,  8.17737765,  2.73811865,  9.60987423,  6.9965971 ,\n",
       "       11.39241831,  8.06115173,  4.43026166,  3.99514804,  6.44525757,\n",
       "        4.94975916,  6.16982925, 11.52839131,  5.13246921,  8.59759624,\n",
       "        8.60186541,  6.43295799,  6.46896986,  4.80285633,  8.76821136,\n",
       "        6.04895591,  7.97075066,  7.59973038,  7.8117529 ,  5.49163795,\n",
       "        8.21687183,  7.51725972,  9.25306675,  8.08834634, 11.42873414,\n",
       "        9.7140052 ,  9.4357768 ,  8.09203328,  5.471104  ,  9.8193013 ,\n",
       "       12.12182047, 12.2912099 , 11.00424638,  3.91008193,  9.0857293 ,\n",
       "        9.0353053 ,  7.16372991,  7.17465972,  9.70802678,  6.48871695,\n",
       "        6.88601011,  6.55800117, 11.00424638,  8.17826451,  9.47209264,\n",
       "       12.46065989,  7.7441424 ,  6.57942199,  8.82260056, 11.46307229,\n",
       "       12.96485309,  9.19471234,  6.50361197, 12.32468689,  5.15242094,\n",
       "        8.15018305,  3.61579339, 10.10962464, 11.2564453 ,  5.5220109 ,\n",
       "        6.91986536, 10.84873093, 10.70531041,  8.36196607, 12.42601778,\n",
       "       11.54834304,  8.02513986, 10.59284506,  9.28353902,  7.91028371,\n",
       "       11.98584746, 11.55558591,  4.17458043,  4.84562818,  7.03889136,\n",
       "        5.46762169,  9.21842463,  8.97049488,  6.4404055 , 10.00686342,\n",
       "        7.33950105,  6.94965541,  8.03279201,  4.33289597,  6.53586328,\n",
       "        5.48251672,  9.79675413,  8.48396577,  5.97461498,  9.19362084,\n",
       "        8.48396577,  6.6867313 ,  8.8484254 ,  2.25865879,  8.35632714,\n",
       "        5.77420981,  5.11668733, 10.09937704, 12.29728765,  9.20940272,\n",
       "        9.7516908 , 11.56142948,  2.86547902,  7.3426794 ,  7.47380033,\n",
       "        9.39628262,  2.771391  ,  4.51581066,  7.52955929,  6.95710292,\n",
       "        5.00879579, 11.85007909, 10.02920596,  6.20932343,  4.67897827,\n",
       "       10.79810229,  7.33037982,  3.50564523,  8.45280597,  9.72145271,\n",
       "        8.27009591,  7.9572254 ,  7.97560273, 11.26389281,  7.3154848 ,\n",
       "        9.1168891 ,  3.21532189,  1.65033461,  7.64462009,  5.78513963,\n",
       "        7.68650508,  9.4605806 ,  8.85724267,  6.42223281,  4.98160118,\n",
       "       11.60649281,  9.22587214,  7.11302765, 10.84107878,  7.69156178,\n",
       "       10.21560296,  5.24889977,  8.21946727,  7.8478641 , 10.14283643,\n",
       "        2.9089384 , 10.78689421,  4.85307569, 10.52984323,  7.04005648,\n",
       "       10.8015846 , 10.49916632,  8.64713338,  7.21087623,  5.05225517,\n",
       "        7.28480789,  8.13043596,  4.49954588,  7.75456361,  5.68866081,\n",
       "       10.6928062 ,  7.81503057,  7.94522979,  8.33678469,  7.23410563,\n",
       "        3.5451394 ,  9.15501352,  8.18106459,  8.23921436,  6.46035723,\n",
       "        4.91976447,  5.86324113,  8.04160928, 10.09589474,  9.62296067,\n",
       "       11.9316629 ,  3.58722903,  5.97946704,  9.67567614, 11.69572876,\n",
       "       10.55820295,  7.69699607,  6.47730423,  8.81378329,  6.92266544,\n",
       "        8.08089882,  7.54793663,  2.84067523,  6.85317658,  5.66406165,\n",
       "        9.02806243,  9.22566751,  8.47535314,  9.61732174, 10.89061591,\n",
       "        9.09485053,  5.59614719, 12.0676359 ,  7.29970291,  9.43925911,\n",
       "        9.77868076,  8.07228619,  9.89343759, 12.61152792,  6.82249967,\n",
       "        9.86692521, 10.34860226,  9.6186915 ,  9.73354765,  5.67916131,\n",
       "        7.97956793, 10.28509182,  4.39076748,  8.45707514,  9.07828179,\n",
       "        8.42957657,  5.71585541,  9.85462563, 11.00821159,  5.90273531,\n",
       "        7.88171935,  6.80623489,  8.37518737,  7.94492582,  5.89549243,\n",
       "        4.56275235,  6.42688024,  6.84593371,  9.67328534,  9.06598221,\n",
       "        7.0509863 ,  8.24030586, 11.82920565, 10.25161483,  7.73829883,\n",
       "        5.98294935,  5.27746412,  4.8877178 ,  9.28839108,  7.06239901,\n",
       "        9.1945077 ,  6.80780929,  8.68693152, 10.71255329,  5.8715755 ,\n",
       "        9.76074225,  8.92256169,  5.1794109 ,  3.5688517 ,  7.07152025,\n",
       "        8.23921436,  4.95837179,  6.26630808,  8.80285347,  6.15841653])"
      ]
     },
     "execution_count": 35,
     "metadata": {},
     "output_type": "execute_result"
    }
   ],
   "source": [
    "pred_train"
   ]
  },
  {
   "cell_type": "code",
   "execution_count": 36,
   "id": "e711387b-5d2b-4603-850e-456b66761741",
   "metadata": {},
   "outputs": [
    {
     "data": {
      "text/plain": [
       "array([ 9.45155869,  8.82608287, 12.41351356,  5.1522163 ,  5.66245771,\n",
       "        7.69880465,  5.82859902,  9.70057927, 11.61414496,  5.0202085 ,\n",
       "        3.92101175,  4.22015236,  7.68210105, 10.80643667,  5.90553539,\n",
       "       10.5642807 ,  7.19577657,  9.52501275,  9.76470746,  7.19440681,\n",
       "       10.46431957, 10.6928062 ,  6.08687569,  9.99545071, 10.70790586,\n",
       "       11.01586374,  4.32565309, 10.97356948,  7.10954534, 10.86964314,\n",
       "        7.28829019,  7.40451611,  6.92751751,  8.6359253 , 12.42977835,\n",
       "        6.46152235,  7.3154848 ,  8.04973902,  8.21201976, 11.12959354,\n",
       "        6.6272854 ,  4.67897827,  6.76414527,  6.23535291,  3.39358915,\n",
       "        4.95092428,  5.6035947 , 10.46917164,  7.93146112,  8.93021384,\n",
       "        9.88182024,  8.01024484,  3.2731934 ,  9.40373014,  7.20930184,\n",
       "        6.23514827,  8.54928479,  3.5144625 ,  9.26864399,  5.8211515 ,\n",
       "       11.53583882,  8.51949475, 10.40415658,  8.71382216,  7.5839485 ,\n",
       "        9.58404938,  3.36618991, 10.73626558,  8.07208155,  7.52470723,\n",
       "       10.6835501 ,  3.300388  ,  8.37887431,  6.94378229,  9.57660187,\n",
       "        9.70635305,  8.80633578,  3.4907502 ,  3.80130353,  7.19837202,\n",
       "       11.78195999,  7.0005623 , 11.57792845,  4.57019986,  5.64568432,\n",
       "        8.04646135,  8.76335929,  2.49944499, 10.24098898,  7.38613878,\n",
       "        3.90126466,  9.29006481,  9.404617  ,  8.02513986,  8.9300092 ,\n",
       "        3.85849281,  8.93745672,  6.60941667, 11.67181183,  7.77690615,\n",
       "        2.18937456,  7.80895282, 10.42988209, 10.09937704,  7.53382847,\n",
       "        9.88926775,  7.93293021,  6.38362549, 11.15511441,  5.31955375,\n",
       "        5.3119016 ,  6.47730423,  3.44777372,  2.25606334,  7.3062287 ,\n",
       "       11.67925934,  7.1093407 ,  7.52955929,  2.79393817,  7.85937681,\n",
       "        5.26844222, 10.28973925,  3.12888602,  6.24396554,  8.43305888,\n",
       "        7.60051724,  7.97956793,  7.38476902,  7.78544516,  7.32778437,\n",
       "        5.75446273,  4.79868649,  6.39831588,  6.92731287,  4.20040527,\n",
       "        5.3633171 ,  7.24879602,  6.90756578,  8.51881252,  8.92256169,\n",
       "        9.0181188 ,  9.94929588, 11.03144098, 10.07665625,  9.6458861 ])"
      ]
     },
     "execution_count": 36,
     "metadata": {},
     "output_type": "execute_result"
    }
   ],
   "source": [
    "pred_test = linereg.predict(lcn_test_x)\n",
    "pred_test"
   ]
  },
  {
   "cell_type": "markdown",
   "id": "6d2c771b-e1da-45a3-bf0c-f043bced41bb",
   "metadata": {},
   "source": [
    "# Calculate ERROR to find SSE,RSE,MSE,RMSE"
   ]
  },
  {
   "cell_type": "code",
   "execution_count": 38,
   "id": "7488a9f5-6ba6-4525-bbee-29b8e46343f4",
   "metadata": {},
   "outputs": [
    {
     "data": {
      "text/plain": [
       "408   -1.040219\n",
       "241    0.032168\n",
       "610   -1.153120\n",
       "415   -1.407499\n",
       "334   -1.700004\n",
       "         ...   \n",
       "322    0.660786\n",
       "720    0.766628\n",
       "63     0.583692\n",
       "312   -0.027853\n",
       "209    0.241583\n",
       "Name: LungCap, Length: 580, dtype: float64"
      ]
     },
     "execution_count": 38,
     "metadata": {},
     "output_type": "execute_result"
    }
   ],
   "source": [
    "err_train = lcn_train_y - pred_train  # lungCap - predicted\n",
    "err_train"
   ]
  },
  {
   "cell_type": "code",
   "execution_count": 74,
   "id": "9fab9aec-d835-43ba-a682-f10f0c0f6aa6",
   "metadata": {},
   "outputs": [
    {
     "data": {
      "text/plain": [
       "7     -2.126559\n",
       "525   -0.476083\n",
       "217   -1.488514\n",
       "632    0.497784\n",
       "129    0.987542\n",
       "         ...   \n",
       "156    0.331881\n",
       "29     0.525704\n",
       "51     1.393559\n",
       "721   -1.026656\n",
       "19    -0.120886\n",
       "Name: LungCap, Length: 145, dtype: float64"
      ]
     },
     "execution_count": 74,
     "metadata": {},
     "output_type": "execute_result"
    }
   ],
   "source": [
    "err_test = lcn_test_y - pred_test # Actual - Predicted Values\n",
    "err_test"
   ]
  },
  {
   "cell_type": "code",
   "execution_count": 76,
   "id": "0d0a9c3b-df84-4a71-979e-84a790729c7d",
   "metadata": {},
   "outputs": [
    {
     "data": {
      "text/plain": [
       "1.2232193691444395"
      ]
     },
     "execution_count": 76,
     "metadata": {},
     "output_type": "execute_result"
    }
   ],
   "source": [
    "mse  = np.mean(np.square(err_test)) # Mean <- Square <- Error\n",
    "mse"
   ]
  },
  {
   "cell_type": "code",
   "execution_count": 78,
   "id": "b5906500-22ee-4b34-b930-f07a12322ccf",
   "metadata": {},
   "outputs": [
    {
     "data": {
      "text/plain": [
       "1.1059924815044808"
      ]
     },
     "execution_count": 78,
     "metadata": {},
     "output_type": "execute_result"
    }
   ],
   "source": [
    "rmse = np.sqrt(mse)\n",
    "rmse"
   ]
  },
  {
   "cell_type": "code",
   "execution_count": 80,
   "id": "5ece9523-6fc3-4394-b91a-23e48cd635c6",
   "metadata": {},
   "outputs": [
    {
     "data": {
      "text/plain": [
       "15.92946106418519"
      ]
     },
     "execution_count": 80,
     "metadata": {},
     "output_type": "execute_result"
    }
   ],
   "source": [
    " mape =  np.mean(np.abs(err_test*100/lcn_test_y))    # mean<-absolute<-percentage<-error \n",
    "mape # 15.92.. % => 85% success rate of the model is doing good. \n",
    "\n",
    "#Model Building is done."
   ]
  },
  {
   "cell_type": "code",
   "execution_count": null,
   "id": "bdcce5b7-ea1f-4fc2-8250-ed958e9288f6",
   "metadata": {},
   "outputs": [],
   "source": []
  }
 ],
 "metadata": {
  "kernelspec": {
   "display_name": "Python [conda env:base] *",
   "language": "python",
   "name": "conda-base-py"
  },
  "language_info": {
   "codemirror_mode": {
    "name": "ipython",
    "version": 3
   },
   "file_extension": ".py",
   "mimetype": "text/x-python",
   "name": "python",
   "nbconvert_exporter": "python",
   "pygments_lexer": "ipython3",
   "version": "3.12.7"
  }
 },
 "nbformat": 4,
 "nbformat_minor": 5
}
